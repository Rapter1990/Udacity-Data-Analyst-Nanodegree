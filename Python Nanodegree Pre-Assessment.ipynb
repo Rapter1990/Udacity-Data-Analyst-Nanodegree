{
 "cells": [
  {
   "cell_type": "code",
   "execution_count": 11,
   "metadata": {},
   "outputs": [
    {
     "name": "stdout",
     "output_type": "stream",
     "text": [
      "7323\n"
     ]
    }
   ],
   "source": [
    "# D\n",
    "import pandas as pd\n",
    "df = pd.read_csv(\"worldcities.csv\")\n",
    "\n",
    "file = open(\"worldcities.csv\")\n",
    "numline = len(file.readlines())\n",
    "print (numline)"
   ]
  },
  {
   "cell_type": "code",
   "execution_count": 14,
   "metadata": {},
   "outputs": [
    {
     "name": "stdout",
     "output_type": "stream",
     "text": [
      "7251\n"
     ]
    }
   ],
   "source": [
    "import pandas as pd\n",
    "file_name = \"worldcities.csv\"\n",
    "file_name_output = \"my_file_without_dupes.csv\"\n",
    "\n",
    "df = pd.read_csv(file_name, sep=\",\")\n",
    "\n",
    "# Notes:\n",
    "# - the `subset=None` means that every column is used \n",
    "#    to determine if two rows are different; to change that specify\n",
    "#    the columns as an array\n",
    "# - the `inplace=True` means that the data structure is changed and\n",
    "#   the duplicate rows are gone  \n",
    "df.drop_duplicates(subset=None, inplace=True)\n",
    "\n",
    "# Write the results to a different file\n",
    "df.to_csv(file_name_output)\n",
    "file = open(file_name_output)\n",
    "numline = len(file.readlines())\n",
    "print (numline)"
   ]
  },
  {
   "cell_type": "code",
   "execution_count": 15,
   "metadata": {},
   "outputs": [
    {
     "data": {
      "text/plain": [
       "72"
      ]
     },
     "execution_count": 15,
     "metadata": {},
     "output_type": "execute_result"
    }
   ],
   "source": [
    "7323 - 7251"
   ]
  },
  {
   "cell_type": "code",
   "execution_count": null,
   "metadata": {},
   "outputs": [],
   "source": []
  }
 ],
 "metadata": {
  "kernelspec": {
   "display_name": "Python 3",
   "language": "python",
   "name": "python3"
  },
  "language_info": {
   "codemirror_mode": {
    "name": "ipython",
    "version": 3
   },
   "file_extension": ".py",
   "mimetype": "text/x-python",
   "name": "python",
   "nbconvert_exporter": "python",
   "pygments_lexer": "ipython3",
   "version": "3.7.1"
  }
 },
 "nbformat": 4,
 "nbformat_minor": 2
}
